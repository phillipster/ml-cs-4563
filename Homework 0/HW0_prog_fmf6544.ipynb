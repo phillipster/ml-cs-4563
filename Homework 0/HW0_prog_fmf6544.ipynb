{
 "cells": [
  {
   "cell_type": "markdown",
   "metadata": {
    "cell_id": "00001-509b1a25-b2ac-4212-9aa8-e3a69ee17f5f",
    "deepnote_cell_type": "markdown",
    "tags": []
   },
   "source": [
    "## Before you start\n",
    "\n",
    "For this semester, the teaching staff of this course will be using Autograder to grade programming assignment.\n",
    "\n",
    "Do not run the cell containing `otter` or `grader.check`.  If you try, you will receive an error message (but it will not cause any other problems so don't worry if this happens).\n",
    "\n",
    "You do not need to manually import Otter or run any grader.check() commands in your notebook on your computer.\n",
    "Otter is already installed on Gradescope, and the grader.check() commands will be executed there.\n",
    "\n",
    "Here are four things we would like you to know before starting. `PLEASE READ CAREFULLY.` Otherwise, you might not receive grades for some questions.\n",
    "\n",
    "* If you see any blocks containing statements like `grader.check(\"Qxx\")`, please `DO NOT MODIFY` them. You can add new cells to the notebook, but just make sure there is `NO OTHER CELLS` between the answer cells containing tag `# TODO Qxx` and grading cells like 'grader.check(\"Qxx\")`. \n",
    "\n",
    "* If the instructions say that you are required to use certain names for output variables, please `FOLLOW THE instructions`. You can still create new variables, but just the make sure to `ASSIGN THE OUTPUT VARIABLES TO CORRECT VALUES`. \n",
    "\n",
    "* Some of the print statements are in the comments. Please feel free to use them, but you must `PUT THESE PRINT STATEMENTS IN COMMENTS` before you submit the programming assignment.\n",
    "\n",
    "* Please `APPEND YOUR NYU NETID` to the name your submission (for example, name your submission as \"HW0_prog_abc12345.ipynb\" when you submit on Gradescope, and replace <abc1234> with your NYU NetID). \n",
    "\n",
    "The autograder does not account for all test cases and edge cases, meaning that it is possible to receive a different grade than what the Autograder assigns you. The teaching staff will grade all submissions manually. Thank you very much for your understanding, and good luck with programming assignment 0!"
   ]
  },
  {
   "cell_type": "code",
   "metadata": {
    "deletable": false,
    "editable": false
   },
   "source": [
    "# Initialize Otter\n",
    "import otter\n",
    "grader = otter.Notebook(\"HW0_prog_fmf6544.ipynb\")"
   ],
   "outputs": [],
   "execution_count": null
  },
  {
   "cell_type": "markdown",
   "metadata": {
    "cell_id": "00002-259c3fff-342a-4eaa-a4a4-8b99b72adf81",
    "deepnote_cell_type": "markdown"
   },
   "source": [
    "# Numpy Assignment\n",
    "\n",
    "Numpy is a library for numerical computing.\n",
    "\n",
    "This assignment covers the important numpy commands which will be used in all the programming assignments for this course. "
   ]
  },
  {
   "cell_type": "markdown",
   "metadata": {
    "cell_id": "00003-5b91a4b2-ea16-4d5d-93e0-0f6fa8f888e7",
    "deepnote_cell_type": "markdown"
   },
   "source": [
    "Basics: NumPy’s main object is the homogeneous multidimensional array. It is a table of elements (usually numbers), all of the same type, indexed by a tuple of positive integers. In NumPy dimensions are called axes. The number of axes is rank.\n",
    "For example, the coordinates of a point in 3D space [1, 2, 1] is an array of rank 1, because it has one axis. That axis has a length of 3. "
   ]
  },
  {
   "cell_type": "markdown",
   "metadata": {
    "cell_id": "00004-f06e840b-09dc-4d79-b3dc-ffe6b652dc69",
    "deepnote_cell_type": "markdown"
   },
   "source": [
    "# Array Creation\n",
    "\n",
    "Numpy arrays behave similar to n-dimensional matrices in matlab.\n",
    "\n",
    "There are several ways to create an array: Two methods are shown below. Before moving ahead, lets first import numpy.  "
   ]
  },
  {
   "cell_type": "code",
   "metadata": {
    "cell_id": "00005-14704c77-fead-4d7c-847f-6380f4679e74",
    "deepnote_cell_type": "code",
    "ExecuteTime": {
     "end_time": "2025-09-20T21:19:08.340003Z",
     "start_time": "2025-09-20T21:19:08.288074Z"
    }
   },
   "source": [
    "# Just run this code cell by pressing shift+enter\n",
    "import numpy as np"
   ],
   "outputs": [],
   "execution_count": 3
  },
  {
   "cell_type": "code",
   "metadata": {
    "cell_id": "00006-cf14b477-c69e-4b57-b5a1-3bdeb2f90ffc",
    "deepnote_cell_type": "code"
   },
   "source": [
    "# Method 1 for creating an array: passing a list of numbers.\n",
    "a=np.array([3,6,2])\n",
    "print(a)"
   ],
   "outputs": [],
   "execution_count": null
  },
  {
   "cell_type": "code",
   "metadata": {
    "cell_id": "00008-0a1c16af-1923-4fa4-967a-5500c690abe9",
    "deepnote_cell_type": "code"
   },
   "source": [
    "# Create an array b having elements 9,6,3,1. \n",
    "# In the code below, remove None and write the numpy command to create an array having these elements. \n",
    "b = np.array([9,6, 3, 1])\n",
    "print(b)"
   ],
   "outputs": [],
   "execution_count": null
  },
  {
   "cell_type": "code",
   "metadata": {
    "deletable": false,
    "editable": false
   },
   "source": [
    "grader.check(\"q1\")"
   ],
   "outputs": [],
   "execution_count": null
  },
  {
   "cell_type": "markdown",
   "metadata": {
    "cell_id": "00010-d696a103-4fe7-4f25-8d02-b0a5b27d7eb0",
    "deepnote_cell_type": "markdown"
   },
   "source": [
    " If you simply pass numbers as attributes, this will give an error. example: np.array(9,6,3,1) will give an error. Try it yourself by uncommenting the code cell below, and put it in comments again before submission."
   ]
  },
  {
   "cell_type": "code",
   "metadata": {
    "cell_id": "00011-5d8b191f-096d-4351-830f-a33cad3b743b",
    "deepnote_cell_type": "code"
   },
   "source": "#b = np.array(9,6,3,1)",
   "outputs": [],
   "execution_count": null
  },
  {
   "cell_type": "markdown",
   "metadata": {
    "cell_id": "00012-940398b9-7351-451c-ac54-b7dfee984552",
    "deepnote_cell_type": "markdown"
   },
   "source": [
    "Array transforms sequences of sequences into two-dimensional arrays. Sequences of sequences of sequences into three-dimensional arrays, and so on. Run example below which is a 2-dimensional array."
   ]
  },
  {
   "cell_type": "code",
   "metadata": {
    "cell_id": "00013-c6a2479c-48c8-4ec5-8f20-c21f721684c8",
    "deepnote_cell_type": "code"
   },
   "source": [
    "c = np.array([[1,2,3],[4,5,6]])\n",
    "print(c)"
   ],
   "outputs": [],
   "execution_count": null
  },
  {
   "cell_type": "markdown",
   "metadata": {
    "cell_id": "00014-ba9de940-44f2-4ff0-ae08-325b15cab635",
    "deepnote_cell_type": "markdown"
   },
   "source": [
    "Example of 3-dimensional array:"
   ]
  },
  {
   "cell_type": "code",
   "metadata": {
    "cell_id": "00015-e687fc01-36e8-4b13-a0e7-7bf5f69cb5e7",
    "deepnote_cell_type": "code"
   },
   "source": [
    "# Just run this code cell: \n",
    "c = np.array([[[1,2,3],[4,5,6]],[[6,7,8],[9,10,11]]])\n",
    "print(c)"
   ],
   "outputs": [],
   "execution_count": null
  },
  {
   "cell_type": "code",
   "metadata": {
    "cell_id": "00017-df9d92ed-8e51-42d3-aa98-5a13c699df54",
    "deepnote_cell_type": "code"
   },
   "source": [
    "# Create a 2-dimensional array having elemnets [15,16,17] in the first row and [18,19,20 ] in the second row.\n",
    "d = np.array([[15, 16, 17], [18,19,20]])\n",
    "print(d)"
   ],
   "outputs": [],
   "execution_count": null
  },
  {
   "cell_type": "code",
   "metadata": {
    "deletable": false,
    "editable": false
   },
   "source": [
    "grader.check(\"q2\")"
   ],
   "outputs": [],
   "execution_count": null
  },
  {
   "cell_type": "markdown",
   "metadata": {
    "cell_id": "00019-11d7aeb8-347e-4090-a0ab-9f75e38e1afe",
    "deepnote_cell_type": "markdown"
   },
   "source": [
    "Method 2 for creating an array: using the \"arange\" function.  Numpy has a function called arange which is analogous to range function of python. arange function returns array instead of list. Example shown below."
   ]
  },
  {
   "cell_type": "code",
   "metadata": {
    "cell_id": "00020-9af05699-7464-420a-aa06-02e82568184f",
    "deepnote_cell_type": "code"
   },
   "source": [
    "# Run this code cell\n",
    "e = np.arange(10)\n",
    "print(e)"
   ],
   "outputs": [],
   "execution_count": null
  },
  {
   "cell_type": "code",
   "metadata": {
    "cell_id": "00021-dfdcc1eb-627e-4006-b15b-1c4ae2da4a98",
    "deepnote_cell_type": "code"
   },
   "source": [
    "# Run this code cell\n",
    "f = np.arange(1,10,2)\n",
    "# Creates an array of 1-dimension. The array values starts at 1, increments by 2 upto 10 (but not including 10). \n",
    "print(f)"
   ],
   "outputs": [],
   "execution_count": null
  },
  {
   "cell_type": "code",
   "metadata": {
    "cell_id": "00023-8f770eac-7f18-4553-9d8c-d783ecdab4c2",
    "deepnote_cell_type": "code"
   },
   "source": [
    "# Create 1-d array using arange having elements from 1 to 15\n",
    "g = np.arange(1,16)\n",
    "print(g)"
   ],
   "outputs": [],
   "execution_count": null
  },
  {
   "cell_type": "code",
   "metadata": {
    "deletable": false,
    "editable": false
   },
   "source": [
    "grader.check(\"q3\")"
   ],
   "outputs": [],
   "execution_count": null
  },
  {
   "cell_type": "markdown",
   "metadata": {
    "cell_id": "00025-19fd7891-477e-4344-b0df-ebb642f23fe3",
    "deepnote_cell_type": "markdown"
   },
   "source": [
    "# Important attributes of the array object.\n",
    "Attribute description is given in the comments of the respective code cells.\n"
   ]
  },
  {
   "cell_type": "code",
   "metadata": {
    "cell_id": "00026-863c7581-146c-4fe0-b676-ef0537e97b6c",
    "deepnote_cell_type": "code"
   },
   "source": [
    "# Run this cell\n",
    "a = np.array([[1,2,3],[4,5,6]])\n",
    "print(a)"
   ],
   "outputs": [],
   "execution_count": null
  },
  {
   "cell_type": "code",
   "metadata": {
    "cell_id": "00027-9eab5f0c-057c-4c79-a1dc-5ccc5084338e",
    "deepnote_cell_type": "code"
   },
   "source": [
    "# ndarray.ndim gives the number of axes(dimensions) of the array. Run this cell\n",
    "a.ndim"
   ],
   "outputs": [],
   "execution_count": null
  },
  {
   "cell_type": "code",
   "metadata": {
    "cell_id": "00028-a7233cea-5bfb-474d-95d0-e8d6b1d5e772",
    "deepnote_cell_type": "code"
   },
   "source": [
    "# ndarray.shape gives the tuple having the shape of the array. Run this cell. \n",
    "# Here, you can interpret the shape of a as having 2 rows and 3 columns.\n",
    "a.shape"
   ],
   "outputs": [],
   "execution_count": null
  },
  {
   "cell_type": "code",
   "metadata": {
    "cell_id": "00029-9bd4c1d5-02f6-43cf-b12b-fb0d75ac384e",
    "deepnote_cell_type": "code"
   },
   "source": [
    "# ndarray.size the total number of elements of the array. This is equal to the product of the elements of shape.\n",
    "a.size"
   ],
   "outputs": [],
   "execution_count": null
  },
  {
   "cell_type": "code",
   "metadata": {
    "cell_id": "00030-70baa666-c52b-4e1a-b745-3dbfceb928c5",
    "deepnote_cell_type": "code"
   },
   "source": [
    "# ndarray.dtype an object describing the type of the elements in the array.\n",
    "a.dtype"
   ],
   "outputs": [],
   "execution_count": null
  },
  {
   "cell_type": "code",
   "metadata": {
    "cell_id": "00032-393fcb93-212c-4622-9d2b-32126165ebf4",
    "deepnote_cell_type": "code"
   },
   "source": [
    "# Create a numpy array having elements [1,2,3,4,5] in first row and [6,7,8,9,10] in the second row. \n",
    "q4 = np.array([[1,2,3,4,5],[6,7,8,9,10]])\n",
    "print(q4)\n",
    "# Find the attributes shown in the above 4 cells.  Write the code below.\n",
    "q4_dim = q4.ndim\n",
    "q4_shape = q4.shape\n",
    "q4_size = q4.size\n",
    "q4_type = q4.dtype\n",
    "print(q4_type)"
   ],
   "outputs": [],
   "execution_count": null
  },
  {
   "cell_type": "code",
   "metadata": {
    "deletable": false,
    "editable": false
   },
   "source": [
    "grader.check(\"q4\")"
   ],
   "outputs": [],
   "execution_count": null
  },
  {
   "cell_type": "code",
   "metadata": {
    "cell_id": "00034-9927457e-3260-436f-a13a-e74edc826f62",
    "deepnote_cell_type": "code"
   },
   "source": [
    "# Sometimes we want to get an individual dimension of an array.  \n",
    "# We can index which dimension we want from the shape attribute.\n",
    "print(\"To get the first dimension:\")\n",
    "print(a.shape[0])\n",
    "print(\"To get the second dimension:\")\n",
    "print(a.shape[1])"
   ],
   "outputs": [],
   "execution_count": null
  },
  {
   "cell_type": "markdown",
   "metadata": {
    "cell_id": "00035-f048583e-f69b-41e0-bbb9-4e0591ab7df5",
    "deepnote_cell_type": "markdown"
   },
   "source": [
    "# Creating array of zeros and ones."
   ]
  },
  {
   "cell_type": "code",
   "metadata": {
    "cell_id": "00036-c145fde2-bb67-4528-a12c-a3909a3ecdad",
    "deepnote_cell_type": "code"
   },
   "source": [
    "# Array of zeros. The code below creates an array of zeros of the specified dimension.\n",
    "# Code below creates an array of zeros of dimension (3,4)\n",
    "a=np.zeros((3,4))\n",
    "print(a)\n",
    "print(a.dtype)"
   ],
   "outputs": [],
   "execution_count": null
  },
  {
   "cell_type": "code",
   "metadata": {
    "cell_id": "00037-729d2b03-7bf6-4a78-b003-45df506eb888",
    "deepnote_cell_type": "code"
   },
   "source": [
    "# Array of ones. Here, dtype attribute specifies the data type of the elements of array. This is optional. \n",
    "# By default, it is float64 as you can see in the example of zeros above.\n",
    "# Array of ones with dimensions (2,3,4)\n",
    "b = np.ones( (2,3,4), dtype=np.int16 )\n",
    "print(b)\n",
    "print(b.dtype)"
   ],
   "outputs": [],
   "execution_count": null
  },
  {
   "cell_type": "code",
   "metadata": {
    "cell_id": "00039-a72e4815-65df-4118-bc25-1f9d96b2a68f",
    "deepnote_cell_type": "code"
   },
   "source": [
    "# Create an array of zeros of dimension (5,6) \n",
    "q5= np.zeros((5,6))\n",
    "print(q5)"
   ],
   "outputs": [],
   "execution_count": null
  },
  {
   "cell_type": "code",
   "metadata": {
    "deletable": false,
    "editable": false
   },
   "source": [
    "grader.check(\"q5\")"
   ],
   "outputs": [],
   "execution_count": null
  },
  {
   "cell_type": "code",
   "metadata": {
    "cell_id": "00042-ac963088-c03a-4498-b77a-1c8cb0d0c97a",
    "deepnote_cell_type": "code"
   },
   "source": [
    "# Create an array of ones of dimension (2,3)\n",
    "q6= np.ones((2,3))\n",
    "print(q6)"
   ],
   "outputs": [],
   "execution_count": null
  },
  {
   "cell_type": "code",
   "metadata": {
    "deletable": false,
    "editable": false
   },
   "source": [
    "grader.check(\"q6\")"
   ],
   "outputs": [],
   "execution_count": null
  },
  {
   "cell_type": "markdown",
   "metadata": {
    "cell_id": "00044-6f601a29-f963-457a-b7bd-fbb9f8e4049c",
    "deepnote_cell_type": "markdown"
   },
   "source": [
    "# Reshape Function.\n",
    "\n",
    "Reshape function is used to reshape an array. See the example below. "
   ]
  },
  {
   "cell_type": "code",
   "metadata": {
    "cell_id": "00045-c3597e6f-85f4-42e1-84b1-87e26175d195",
    "deepnote_cell_type": "code"
   },
   "source": [
    "a = np.arange(15)\n",
    "print(\"The original array a\")\n",
    "print(a)\n",
    "print(\"The array a reshaped with dimensions 3x5\")\n",
    "print(a.reshape(3,5))"
   ],
   "outputs": [],
   "execution_count": null
  },
  {
   "cell_type": "code",
   "metadata": {
    "cell_id": "00046-6ec3c9e8-39fd-435a-8c01-af891fe70407",
    "deepnote_cell_type": "code"
   },
   "source": [
    "# Reshape function doesn't change the shape of original array. \n",
    "print(\"Notice that a didn't change\")\n",
    "print(a)\n",
    "print(\"The dimensions of a:\")\n",
    "print(a.shape)"
   ],
   "outputs": [],
   "execution_count": null
  },
  {
   "cell_type": "code",
   "metadata": {
    "cell_id": "00047-baa816bf-2961-40e3-97fc-2bffa183c052",
    "deepnote_cell_type": "code"
   },
   "source": [
    "# To change the shape of original array, use this. \n",
    "a = a.reshape(3,5)\n",
    "print(\"Notice a has been changed\")\n",
    "print(a)\n",
    "print(\"The new dimensions of a:\")\n",
    "print(a.shape)"
   ],
   "outputs": [],
   "execution_count": null
  },
  {
   "cell_type": "code",
   "metadata": {
    "cell_id": "00049-0d6de178-f93b-4113-8f2b-2565a3bdb45c",
    "deepnote_cell_type": "code"
   },
   "source": [
    "# Create an array of zeros of dimension (4,5)\n",
    "q7_a = np.zeros((4,5))\n",
    "print(q7_a)\n",
    "# Reshape q7_a to dimensions (10,2).\n",
    "q7_b = q7_a.reshape(10,2)\n",
    "print(q7_b)"
   ],
   "outputs": [],
   "execution_count": null
  },
  {
   "cell_type": "code",
   "metadata": {
    "deletable": false,
    "editable": false
   },
   "source": [
    "grader.check(\"q7\")"
   ],
   "outputs": [],
   "execution_count": null
  },
  {
   "cell_type": "markdown",
   "metadata": {
    "cell_id": "00051-45e27487-4fd2-4993-9368-d044705e43a4",
    "deepnote_cell_type": "markdown"
   },
   "source": [
    "# Note:\n",
    "Whenever you use a 1 dimensional array, it is a rank 1 array. In the later assignments, you will see that we don't prefer to use rank 1 array. So, we can convert them to rank 2 using reshape function. "
   ]
  },
  {
   "cell_type": "code",
   "metadata": {
    "cell_id": "00052-d0b7e2d2-b3d8-4b9a-8596-b5b8014fc1b2",
    "deepnote_cell_type": "code"
   },
   "source": [
    "# Run this cell\n",
    "# Here we have a rank 1 matrix. See it's shape.\n",
    "a = np.array([1,2,3])\n",
    "print(a)\n",
    "print(a.shape)"
   ],
   "outputs": [],
   "execution_count": null
  },
  {
   "cell_type": "code",
   "metadata": {
    "cell_id": "00053-e9b08eae-5c42-41e3-b137-4d02e7aec4aa",
    "deepnote_cell_type": "code",
    "ExecuteTime": {
     "end_time": "2025-09-20T21:18:36.860348Z",
     "start_time": "2025-09-20T21:18:36.793059Z"
    }
   },
   "source": [
    "# Run this cell\n",
    "a = a.reshape((3,1))\n",
    "# Notice that a changed from a sequence of numbers to a sequence of sequence of numbers\n",
    "print(\"The new shape of a\")\n",
    "print(a)\n",
    "print(\"The array a's new dimensions:\")\n",
    "print(a.shape)"
   ],
   "outputs": [
    {
     "ename": "NameError",
     "evalue": "name 'a' is not defined",
     "output_type": "error",
     "traceback": [
      "\u001B[31m---------------------------------------------------------------------------\u001B[39m",
      "\u001B[31mNameError\u001B[39m                                 Traceback (most recent call last)",
      "\u001B[36mCell\u001B[39m\u001B[36m \u001B[39m\u001B[32mIn[1]\u001B[39m\u001B[32m, line 2\u001B[39m\n\u001B[32m      1\u001B[39m \u001B[38;5;66;03m# Run this cell\u001B[39;00m\n\u001B[32m----> \u001B[39m\u001B[32m2\u001B[39m a = \u001B[43ma\u001B[49m.reshape((\u001B[32m3\u001B[39m,\u001B[32m1\u001B[39m))\n\u001B[32m      3\u001B[39m \u001B[38;5;66;03m# Notice that a changed from a sequence of numbers to a sequence of sequence of numbers\u001B[39;00m\n\u001B[32m      4\u001B[39m \u001B[38;5;28mprint\u001B[39m(\u001B[33m\"\u001B[39m\u001B[33mThe new shape of a\u001B[39m\u001B[33m\"\u001B[39m)\n",
      "\u001B[31mNameError\u001B[39m: name 'a' is not defined"
     ]
    }
   ],
   "execution_count": 1
  },
  {
   "cell_type": "markdown",
   "metadata": {
    "cell_id": "00054-bb2e5bbe-7c53-4663-8230-36d7358f4f95",
    "deepnote_cell_type": "markdown"
   },
   "source": [
    "# Numpy.random.rand and Numpy.random.randn"
   ]
  },
  {
   "cell_type": "code",
   "metadata": {
    "cell_id": "00055-c3d602eb-8a73-4b65-816c-e2b9adba412b",
    "deepnote_cell_type": "code"
   },
   "source": [
    "# Numpy.random.rand creates a numpy array of given dimensions where all the elements \n",
    "# are random samples from a uniform distribution over [0, 1).\n",
    "# Run this code cell.\n",
    "a = np.random.rand(2,3)\n",
    "print(a)"
   ],
   "outputs": [],
   "execution_count": null
  },
  {
   "cell_type": "markdown",
   "metadata": {
    "cell_id": "00056-5a560131-041b-4d19-b9fe-ee1285db0a54",
    "deepnote_cell_type": "markdown"
   },
   "source": [
    " Numpy.random.randn creates a numpy array of given dimensions where all the elements are  samples from univariate “normal” (Gaussian) distribution of mean 0 and variance 1"
   ]
  },
  {
   "cell_type": "code",
   "metadata": {
    "cell_id": "00057-0721bfbf-a46f-4b36-8ec5-87cc1e2ef53d",
    "deepnote_cell_type": "code"
   },
   "source": [
    "# Run this cell\n",
    "a = np.random.randn(2,10)\n",
    "print(a)"
   ],
   "outputs": [],
   "execution_count": null
  },
  {
   "cell_type": "markdown",
   "metadata": {
    "cell_id": "00058-80eaf6a6-1eb6-46fe-acb1-33e5a32105e9",
    "deepnote_cell_type": "markdown"
   },
   "source": [
    "Numpy can create an array having values from the normal distribution with mean = $\\mu$, and variance = $\\sigma^2$.\n",
    "\n",
    "To create a random array of elements from $N(\\mu, \\sigma^2)$, use: sigma = $\\sigma$, and mu = $\\mu$ and the numpy command:\n",
    "\n",
    "sigma * np.random.randn(...) + mu"
   ]
  },
  {
   "cell_type": "code",
   "metadata": {
    "cell_id": "00059-6e9eb550-5551-4259-b2e4-c999c719bace",
    "deepnote_cell_type": "code"
   },
   "source": [
    "# Two-by-four array of samples from N(3, 6.25):\n",
    "a=2.5 * np.random.randn(2, 4) + 3\n",
    "a"
   ],
   "outputs": [],
   "execution_count": null
  },
  {
   "cell_type": "code",
   "metadata": {
    "cell_id": "00061-4a1bf5a7-2758-47de-a8b5-dc4a40528fc2",
    "deepnote_cell_type": "code"
   },
   "source": [
    "# Create a numpy array with 3 rows and 5 columns containing random samples with mean (mu)= 5 \n",
    "# and standard deviation(sigma) = 2\n",
    "q8 = np.random.randn(3,5)*2+5\n",
    "print(q8)"
   ],
   "outputs": [],
   "execution_count": null
  },
  {
   "cell_type": "code",
   "metadata": {
    "deletable": false,
    "editable": false
   },
   "source": [
    "grader.check(\"q8\")"
   ],
   "outputs": [],
   "execution_count": null
  },
  {
   "cell_type": "markdown",
   "metadata": {
    "cell_id": "00065-b24cf85e-0bdb-4d43-ab16-e7746414dcbf",
    "deepnote_cell_type": "markdown"
   },
   "source": [
    "# Basic Operations: \n",
    "Arithmetic operators on arrays apply elementwise. A new array is created and filled with the result."
   ]
  },
  {
   "cell_type": "code",
   "metadata": {
    "cell_id": "00066-11f9ff7c-19aa-49a6-858d-78acaf5ee476",
    "deepnote_cell_type": "code",
    "ExecuteTime": {
     "end_time": "2025-09-20T21:19:49.874100Z",
     "start_time": "2025-09-20T21:19:49.871638Z"
    }
   },
   "source": [
    "# Run this code cell\n",
    "m = np.array( [20,30,40,50] )\n",
    "n = np.arange( 1,5 )\n",
    "print(\"The array m:\")\n",
    "print(m)\n",
    "print(\"The array n:\")\n",
    "print(n)"
   ],
   "outputs": [
    {
     "name": "stdout",
     "output_type": "stream",
     "text": [
      "The array m:\n",
      "[20 30 40 50]\n",
      "The array n:\n",
      "[1 2 3 4]\n"
     ]
    }
   ],
   "execution_count": 4
  },
  {
   "cell_type": "code",
   "metadata": {
    "cell_id": "00067-2dedb0b0-75ed-41d1-95fc-46fadb7269c4",
    "deepnote_cell_type": "code",
    "ExecuteTime": {
     "end_time": "2025-09-20T21:19:52.440103Z",
     "start_time": "2025-09-20T21:19:52.437977Z"
    }
   },
   "source": [
    "# To subtract corresponding elements of array n from array m , simply write m - n as shown below\n",
    "sub = m-n\n",
    "print(sub)"
   ],
   "outputs": [
    {
     "name": "stdout",
     "output_type": "stream",
     "text": [
      "[19 28 37 46]\n"
     ]
    }
   ],
   "execution_count": 5
  },
  {
   "cell_type": "code",
   "metadata": {
    "cell_id": "00069-937a3963-4414-4b80-b419-67eabfc0e3d3",
    "deepnote_cell_type": "code"
   },
   "source": [
    "# similarly we can do addition, multiplication, division of corresponding elements. Complete the code to add, multiply and divide corresponding elements of m and n.\n",
    "addition = m+n\n",
    "product = m*n\n",
    "ratio = m/n\n",
    "print(\"m + n:\")\n",
    "print(addition)\n",
    "print(\"m * n: \")\n",
    "print(product)\n",
    "print(\"m / n:\")\n",
    "print(ratio)"
   ],
   "outputs": [],
   "execution_count": null
  },
  {
   "cell_type": "code",
   "metadata": {
    "deletable": false,
    "editable": false
   },
   "source": [
    "grader.check(\"q9\")"
   ],
   "outputs": [],
   "execution_count": null
  },
  {
   "cell_type": "code",
   "metadata": {
    "cell_id": "00071-b7f0862e-d3ea-49e3-9d16-bc537353b454",
    "deepnote_cell_type": "code"
   },
   "source": [
    "# Square all the elements of the array n and save it in an array called 'square' by writing n**2\n",
    "square = n**2\n",
    "print(square)"
   ],
   "outputs": [],
   "execution_count": null
  },
  {
   "cell_type": "code",
   "metadata": {
    "cell_id": "00072-6fc39a1b-0d15-421d-9109-705d99571d92",
    "deepnote_cell_type": "code"
   },
   "source": [
    "# Take sine of all the elements of a matrix and save it in another matrix sine\n",
    "sine=10*np.sin(m)\n",
    "print(sine)"
   ],
   "outputs": [],
   "execution_count": null
  },
  {
   "cell_type": "code",
   "metadata": {
    "cell_id": "00073-01f5f8d7-eb9b-4052-b73f-89a4bc459ff9",
    "deepnote_cell_type": "code"
   },
   "source": [
    "# Run this cell to see how this works\n",
    "e= m<35\n",
    "print(e)"
   ],
   "outputs": [],
   "execution_count": null
  },
  {
   "cell_type": "code",
   "metadata": {},
   "source": [
    "# In Python 'True' evaluates to 1 and 'False' evaluates to 0.  \n",
    "# We can count how many times an item in m was less than 35 by summing the items in e\n",
    "print(np.sum(e))"
   ],
   "outputs": [],
   "execution_count": null
  },
  {
   "cell_type": "code",
   "metadata": {},
   "source": [
    "# Run this cell to convert a boolean array into an int array\n",
    "i = e.astype(int)\n",
    "print(i)"
   ],
   "outputs": [],
   "execution_count": null
  },
  {
   "cell_type": "markdown",
   "metadata": {
    "cell_id": "00074-b886d872-0e35-4e83-892e-93bbe929f7d5",
    "deepnote_cell_type": "markdown"
   },
   "source": [
    "# Matrix and vector operations\n",
    "\n",
    "Unlike in many matrix languages (like matlab), the product operator * operates elementwise in NumPy arrays. The matrix product can be performed using the dot function or the dot method:"
   ]
  },
  {
   "cell_type": "code",
   "metadata": {
    "cell_id": "00075-848c7ec1-3d22-4062-a8ef-cfb6bb86f136",
    "deepnote_cell_type": "code"
   },
   "source": [
    "# Run this cell\n",
    "A = np.array( [[1,1],[0,1]] )\n",
    "B = np.array( [[2,0], [3,4]] )\n",
    "print(A)\n",
    "print(B)"
   ],
   "outputs": [],
   "execution_count": null
  },
  {
   "cell_type": "code",
   "metadata": {
    "cell_id": "00076-63798d6b-c7a9-45aa-ba0c-4ebacf01a45c",
    "deepnote_cell_type": "code"
   },
   "source": [
    "# Element wise product. Note: Dimensions should be same for A and B\n",
    "C = A * B\n",
    "print(C)"
   ],
   "outputs": [],
   "execution_count": null
  },
  {
   "cell_type": "code",
   "metadata": {
    "cell_id": "00077-21b11816-b493-4e17-83a9-9d21062dd822",
    "deepnote_cell_type": "code"
   },
   "source": [
    "# The dot method for matrix multiplication.\n",
    "# Dimensions should be in accordance to linear algbra rule of Matrix-Matrix or Matrix-Vector multiplication.\n",
    "D = A.dot(B) \n",
    "print(D)"
   ],
   "outputs": [],
   "execution_count": null
  },
  {
   "cell_type": "code",
   "metadata": {
    "cell_id": "00078-d0b8bd04-fd85-4339-b5ff-c53c3ca4c027",
    "deepnote_cell_type": "code"
   },
   "source": [
    "# Another way to multiply matrices is to use np.dot() function.\n",
    "D = np.dot(A,B)\n",
    "print(D)"
   ],
   "outputs": [],
   "execution_count": null
  },
  {
   "cell_type": "code",
   "metadata": {
    "cell_id": "00080-62cf766f-8926-4bcd-b317-40ddc92fdeda",
    "deepnote_cell_type": "code"
   },
   "source": [
    "# Create a random matrix of dimension (3,4) and another random matrix of dimension (4,2) and find their dot product. \n",
    "# Also, check the dimensions of the resultant matrix.\n",
    "mat1= np.random.rand(3, 4)\n",
    "mat2= np.random.rand(4, 2)\n",
    "dot_product= np.dot(mat1, mat2)\n",
    "print(\"mat1:\")\n",
    "print(mat1)\n",
    "print(\"mat2:\")\n",
    "print(mat2)\n",
    "print(\"mat1 times mat2:\")\n",
    "print(dot_product)"
   ],
   "outputs": [],
   "execution_count": null
  },
  {
   "cell_type": "code",
   "metadata": {
    "deletable": false,
    "editable": false
   },
   "source": [
    "grader.check(\"q10\")"
   ],
   "outputs": [],
   "execution_count": null
  },
  {
   "cell_type": "markdown",
   "metadata": {
    "cell_id": "00082-bd9f6656-6001-4111-baae-c0075324ff21",
    "deepnote_cell_type": "markdown"
   },
   "source": [
    "Many unary operations, such as computing the sum of all the elements in the array, are implemented as methods of the ndarray class."
   ]
  },
  {
   "cell_type": "code",
   "metadata": {
    "cell_id": "00083-8a738b3c-403d-4b2c-b637-9cf1aa3523d4",
    "deepnote_cell_type": "code"
   },
   "source": [
    "# Run this cell\n",
    "q11 = np.random.random((2,3))\n",
    "print(q11)"
   ],
   "outputs": [],
   "execution_count": null
  },
  {
   "cell_type": "code",
   "metadata": {
    "cell_id": "00084-f9f6d2c9-973a-419c-9634-c88a67bb3086",
    "deepnote_cell_type": "code"
   },
   "source": [
    "# Calculating sum of all the elements of the array. \n",
    "# This method considers all the elements of array as a long list of numbers regardless of the shape.\n",
    "add = q11.sum()\n",
    "print(add)"
   ],
   "outputs": [],
   "execution_count": null
  },
  {
   "cell_type": "code",
   "metadata": {
    "cell_id": "00086-8c331727-65d4-4e1d-a56f-261862d25028",
    "deepnote_cell_type": "code"
   },
   "source": [
    "# Find minimum and maximum from all the elements using q11.min() and q11.max() command.\n",
    "minimum = q11.min()\n",
    "maximum = q11.max()\n",
    "print(\"minimum = %9.8f\"%(minimum))\n",
    "print(\"maximum = %9.8f\"%(maximum))"
   ],
   "outputs": [],
   "execution_count": null
  },
  {
   "cell_type": "code",
   "metadata": {
    "deletable": false,
    "editable": false
   },
   "source": [
    "grader.check(\"q11\")"
   ],
   "outputs": [],
   "execution_count": null
  },
  {
   "cell_type": "code",
   "metadata": {
    "cell_id": "00089-697df9a2-57fc-4c76-8bcc-12062c1b524b",
    "deepnote_cell_type": "code"
   },
   "source": [
    "# Create a random array a of dimension (4,6) and find sum , min, max as shown above.\n",
    "arr = np.random.rand(4,6)\n",
    "add = arr.sum()\n",
    "minimum_arr = arr.min()\n",
    "maximum_arr = arr.max()\n",
    "print(\"The array arr:\")\n",
    "print(arr)\n",
    "print(\"The sum of all elements of array arr: %9.8f\"%(add))\n",
    "print(\"minimum = %9.8f\"%(minimum_arr))\n",
    "print(\"maximum = %9.8f\"%(maximum_arr))"
   ],
   "outputs": [],
   "execution_count": null
  },
  {
   "cell_type": "code",
   "metadata": {
    "deletable": false,
    "editable": false
   },
   "source": [
    "grader.check(\"q12\")"
   ],
   "outputs": [],
   "execution_count": null
  },
  {
   "cell_type": "markdown",
   "metadata": {
    "cell_id": "00091-0cd0941f-f44f-4b47-a0c0-f188f276e7da",
    "deepnote_cell_type": "markdown"
   },
   "source": [
    "# Operations on rows or columns\n",
    "\n",
    "By default, these operations apply to the array as though it were a list of numbers, regardless of its shape. However, by specifying the axis parameter you can apply an operation along the specified axis of an array:"
   ]
  },
  {
   "cell_type": "code",
   "metadata": {
    "cell_id": "00092-a9db9867-825d-4359-8eb2-7f2722e3bb6a",
    "deepnote_cell_type": "code"
   },
   "source": [
    "# Run this cell\n",
    "B = np.arange(12).reshape(3,4)\n",
    "print(B)"
   ],
   "outputs": [],
   "execution_count": null
  },
  {
   "cell_type": "code",
   "metadata": {
    "cell_id": "00093-6f0b17e8-26bd-4ef0-9db5-b353136f2864",
    "deepnote_cell_type": "code"
   },
   "source": [
    "# sum along a column\n",
    "column_sum = B.sum(axis=0)  \n",
    "print(column_sum)"
   ],
   "outputs": [],
   "execution_count": null
  },
  {
   "cell_type": "code",
   "metadata": {
    "cell_id": "00095-729513e2-6538-4647-ab95-5f801eb9a638",
    "deepnote_cell_type": "code"
   },
   "source": [
    "# sum along a row. In sum function above, in place of axis=0, pass axis=1\n",
    "row_sum = B.sum(axis=1)\n",
    "print(\"The row sums:\")\n",
    "print(row_sum)\n",
    "# Minimum along row\n",
    "min_row= B.min(axis = 1)\n",
    "print(\"The minimum item in every row:\")\n",
    "print(min_row)\n",
    "# Minimum along column\n",
    "min_column= B.min(axis = 0)\n",
    "print(\"The minimum item in every column:\")\n",
    "print(min_column)"
   ],
   "outputs": [],
   "execution_count": null
  },
  {
   "cell_type": "code",
   "metadata": {
    "deletable": false,
    "editable": false
   },
   "source": [
    "grader.check(\"q13\")"
   ],
   "outputs": [],
   "execution_count": null
  },
  {
   "cell_type": "code",
   "metadata": {
    "cell_id": "00097-09af4b43-9714-404c-8257-01c714d8aa6a",
    "deepnote_cell_type": "code"
   },
   "source": [
    "# To apply universal mathematical functions on all the elements of a matrix, we do so as shown below:\n",
    "B = np.arange(3)\n",
    "print(\"The array B:\")\n",
    "print(B)\n",
    "# Compute exponent of every element of B\n",
    "C = np.exp(B) \n",
    "print(\"The array C:\")\n",
    "print(C)\n",
    "# Compute sqrt of every element in B.  (You may get an error if an element in B is negative.)\n",
    "D = np.sqrt(B)\n",
    "print(\"The array D:\")\n",
    "print(D)"
   ],
   "outputs": [],
   "execution_count": null
  },
  {
   "cell_type": "code",
   "metadata": {
    "cell_id": "00099-1182f846-91ab-43ab-ac56-61fd20f74fe6",
    "deepnote_cell_type": "code"
   },
   "source": [
    "# Create a random matrix of dimensions (2,4) and apply the above three operations.\n",
    "q14_mat = np.random.rand(2,4)\n",
    "print(\"The matrix:\")\n",
    "print(q14_mat)\n",
    "# Apply operations on matrix: exp and sqrt\n",
    "q14_exp = np.exp(q14_mat )\n",
    "print(q14_exp)\n",
    "q14_sqrt = np.sqrt(q14_mat)\n",
    "print(q14_sqrt)\n",
    "# Perform np.log( ).  (Note: you will get error if you try to take the log of a negative number.)\n",
    "q14_log = np.log(q14_mat)\n",
    "print(q14_log)"
   ],
   "outputs": [],
   "execution_count": null
  },
  {
   "cell_type": "code",
   "metadata": {
    "deletable": false,
    "editable": false
   },
   "source": [
    "grader.check(\"q14\")"
   ],
   "outputs": [],
   "execution_count": null
  },
  {
   "cell_type": "markdown",
   "metadata": {
    "cell_id": "00101-b0967071-470c-431f-8cb4-d5e28b8a91a8",
    "deepnote_cell_type": "markdown"
   },
   "source": [
    "# Transpose of a Matrix\n",
    "There are 2 ways to get transpose of a numpy array. Either using .T attribute or using np.transpose(matrix) method.\n",
    "Note: If you have a rank 1 matrix and you take it's transpose, it will be same as the original matrix."
   ]
  },
  {
   "cell_type": "code",
   "metadata": {
    "cell_id": "00102-9be1c20b-3203-40fe-aad5-473c931bbee5",
    "deepnote_cell_type": "code"
   },
   "source": [
    "# Using .T attribute\n",
    "A = np.arange(4).reshape((2,2))\n",
    "B = A.T\n",
    "print(\"The original A:\")\n",
    "print(A)\n",
    "print(\"The transpose of A:\")\n",
    "print(B)"
   ],
   "outputs": [],
   "execution_count": null
  },
  {
   "cell_type": "code",
   "metadata": {
    "cell_id": "00103-2be0faea-b197-4c3c-a555-ae636c96184a",
    "deepnote_cell_type": "code"
   },
   "source": [
    "# Using transpose method\n",
    "C = np.transpose(A)\n",
    "print(C)"
   ],
   "outputs": [],
   "execution_count": null
  },
  {
   "cell_type": "code",
   "metadata": {
    "cell_id": "00105-7739e0a4-fffb-4327-8b7a-5421a79c452d",
    "deepnote_cell_type": "code"
   },
   "source": [
    "# Create a random matrix X of dimension (4,3) and take it's transpose.\n",
    "X = np.random.rand(4,3)\n",
    "# Find transpose of X using any of the above method\n",
    "Y = X.T\n",
    "print(\"X: \")\n",
    "print(X)\n",
    "print(\"X Transpose: \")\n",
    "print(Y)"
   ],
   "outputs": [],
   "execution_count": null
  },
  {
   "cell_type": "code",
   "metadata": {
    "deletable": false,
    "editable": false
   },
   "source": [
    "grader.check(\"q15\")"
   ],
   "outputs": [],
   "execution_count": null
  },
  {
   "cell_type": "markdown",
   "metadata": {},
   "source": [
    "# Inner vs Outer Product\n",
    "\n",
    "The `dot` function behaves differently if the numpy arrays are 1-d instead of 2-d."
   ]
  },
  {
   "cell_type": "code",
   "metadata": {},
   "source": [
    "# Creating two 1-dimensional numpy arrays\n",
    "\n",
    "a = np.arange(1,5)\n",
    "print(a)\n",
    "print(a.shape)\n",
    "\n",
    "b = np.arange(5,9)\n",
    "print(b)\n",
    "print(b.shape)"
   ],
   "outputs": [],
   "execution_count": null
  },
  {
   "cell_type": "code",
   "metadata": {},
   "source": [
    "# Inner product with 1-dimensional arrays\n",
    "# If a and b are 1-dimensional arrays, taking the transpose doesn't do anything!\n",
    "\n",
    "print(a.T)\n",
    "\n",
    "# So we can just take the dot product without worry\n",
    "c = a.dot(b)\n",
    "print(c)"
   ],
   "outputs": [],
   "execution_count": null
  },
  {
   "cell_type": "code",
   "metadata": {},
   "source": [
    "# Inner product with 2-dimensional arrays\n",
    "\n",
    "# First we create 2-d arrays using reshape\n",
    "a_2d = a.reshape((a.shape[0],1))\n",
    "print(a_2d)\n",
    "print(a_2d.shape)\n",
    "\n",
    "b_2d = b.reshape((b.shape[0],1))\n",
    "print(b_2d)\n",
    "print(b_2d.shape)\n",
    "\n",
    "# When we use 2-d numpy arrays things work differently\n",
    "# uncomment the next line and see what happens!\n",
    "# a_2d.dot(b_2d)\n",
    "\n",
    "# Inner product\n",
    "# To multipy 2-d numpy arrays, we have to make sure the dimensions match.  So we take the dot product of a_2d.T with b_2d\n",
    "# a_2d.T has dimension 1x4 and b_2d has dimension 4x1 so the result is 1x1\n",
    "c = a_2d.T.dot(b_2d)\n",
    "print(c)\n",
    "print(c.shape)"
   ],
   "outputs": [],
   "execution_count": null
  },
  {
   "cell_type": "code",
   "metadata": {},
   "source": [
    "# Outer product\n",
    "# What do you think happens if we take the dot product of a_2d with b_2d.T?  Run the following cell to find out!\n",
    "d = a_2d.dot(b_2d.T)\n",
    "print(d)"
   ],
   "outputs": [],
   "execution_count": null
  },
  {
   "cell_type": "markdown",
   "metadata": {},
   "source": [
    "You multiplied a 4x1 matrix with a 1x4 matrix.  This created a 4x4 matrix."
   ]
  },
  {
   "cell_type": "markdown",
   "metadata": {
    "cell_id": "00107-a2fd2d29-5685-4136-aa47-a4c570ef1744",
    "deepnote_cell_type": "markdown"
   },
   "source": [
    "# Indexing, slicing and iterating\n",
    "\n",
    "Indexing, slicing and iterating on 1-dimensional arrays. \n",
    "\n",
    "Indexing, slicing and iterating is almost same as simple python lists for 1-dimensional arrays. \n",
    "\n",
    "Note: Index starts from 0."
   ]
  },
  {
   "cell_type": "code",
   "metadata": {
    "cell_id": "00108-a3dec43d-390c-4438-8e61-bd28d1497c41",
    "deepnote_cell_type": "code"
   },
   "source": [
    "# Run this cell\n",
    "a = np.arange(15)**3\n",
    "print(a)"
   ],
   "outputs": [],
   "execution_count": null
  },
  {
   "cell_type": "code",
   "metadata": {
    "cell_id": "00110-2aa93a18-3179-4bf4-b71a-597934e352ec",
    "deepnote_cell_type": "code"
   },
   "source": [
    "# Indexing. Getting third element of a\n",
    "third_elem = a[2]\n",
    "print(third_elem)\n",
    "# Find fifth element of a\n",
    "fifth_elem= a[5]\n",
    "print(fifth_elem)"
   ],
   "outputs": [],
   "execution_count": null
  },
  {
   "cell_type": "code",
   "metadata": {
    "deletable": false,
    "editable": false
   },
   "source": [
    "grader.check(\"q16\")"
   ],
   "outputs": [],
   "execution_count": null
  },
  {
   "cell_type": "code",
   "metadata": {
    "cell_id": "00113-59077b7f-3c6f-49c7-818e-72ec8532d06f",
    "deepnote_cell_type": "code"
   },
   "source": [
    "# Slicing. Getting elements from index 2 to 5.  (Note we do not get the item at index 6.)\n",
    "slice = a[2:6]\n",
    "print(slice)\n",
    "# Find elements from index 4 to 7.\n",
    "slice_2 = a[4:8]\n",
    "print(slice_2)"
   ],
   "outputs": [],
   "execution_count": null
  },
  {
   "cell_type": "code",
   "metadata": {
    "deletable": false,
    "editable": false
   },
   "source": [
    "grader.check(\"q17\")"
   ],
   "outputs": [],
   "execution_count": null
  },
  {
   "cell_type": "code",
   "metadata": {
    "cell_id": "00115-c35cf7b5-7a36-4da5-8bb2-ad0c878a18e6",
    "deepnote_cell_type": "code"
   },
   "source": [
    "# Reversing 1-D array\n",
    "rev = a[::-1]\n",
    "print(rev)"
   ],
   "outputs": [],
   "execution_count": null
  },
  {
   "cell_type": "code",
   "metadata": {
    "cell_id": "00117-ec3fb66b-84b0-4a68-b675-db0a1b37b5bb",
    "deepnote_cell_type": "code"
   },
   "source": [
    "# Looping over some indices.\n",
    "# Start from index 2, stop before index 12 and jump or increment by 3.\n",
    "q18_example = a[2:12:3]\n",
    "print(q18_example)\n",
    "# From array a, start from index 3, stop before index 12 and jump by 4.\n",
    "q18_exercise = a[3:12:4]\n",
    "print(q18_exercise)"
   ],
   "outputs": [],
   "execution_count": null
  },
  {
   "cell_type": "code",
   "metadata": {
    "deletable": false,
    "editable": false
   },
   "source": [
    "grader.check(\"q18\")"
   ],
   "outputs": [],
   "execution_count": null
  },
  {
   "cell_type": "code",
   "metadata": {
    "cell_id": "00119-dd02dbfd-902d-4b4e-81aa-8b91187741ce",
    "deepnote_cell_type": "code"
   },
   "source": [
    "# Using a for loop to iterate:\n",
    "for i in a:\n",
    "    print(i)"
   ],
   "outputs": [],
   "execution_count": null
  },
  {
   "cell_type": "markdown",
   "metadata": {
    "cell_id": "00120-6ab70665-cf55-4943-a2fa-a80e77ee631c",
    "deepnote_cell_type": "markdown"
   },
   "source": [
    "# Multidimensional arrays \n",
    "They can have one index per axis. These indices are given in a tuple separated by commas:"
   ]
  },
  {
   "cell_type": "code",
   "metadata": {
    "cell_id": "00121-0326aaa5-13d6-4e20-87c9-210d31f3387b",
    "deepnote_cell_type": "code"
   },
   "source": [
    "# Run this code\n",
    "a = np.arange(12).reshape(4,3)\n",
    "print(a)"
   ],
   "outputs": [],
   "execution_count": null
  },
  {
   "cell_type": "code",
   "metadata": {
    "cell_id": "00122-1736137b-6a1e-497f-8bbe-0f0d330dd8fc",
    "deepnote_cell_type": "code"
   },
   "source": [
    "# Element in third row and second column of the matrix.  \n",
    "# Note due to indexing starting from 0, we use index 2 for the third row and we use index 1 for the second column\n",
    "print(a[2,1])"
   ],
   "outputs": [],
   "execution_count": null
  },
  {
   "cell_type": "code",
   "metadata": {
    "cell_id": "00124-b5e8960b-fdf4-4a12-a8d4-5ed46cd7e59a",
    "deepnote_cell_type": "code"
   },
   "source": [
    "# Find element in second row and third column of a. \n",
    "q19 = a[1,2]\n",
    "print(q19)"
   ],
   "outputs": [],
   "execution_count": null
  },
  {
   "cell_type": "code",
   "metadata": {
    "deletable": false,
    "editable": false
   },
   "source": [
    "grader.check(\"q19\")"
   ],
   "outputs": [],
   "execution_count": null
  },
  {
   "cell_type": "code",
   "metadata": {
    "cell_id": "00126-03bab1bf-4dbf-4f2d-ad58-42ea4f53d08f",
    "deepnote_cell_type": "code"
   },
   "source": [
    "# Getting each row in the second column of array a\n",
    "c = a[: , 1]\n",
    "print(c)"
   ],
   "outputs": [],
   "execution_count": null
  },
  {
   "cell_type": "code",
   "metadata": {
    "cell_id": "00128-d6a643ed-ff5f-48c9-be7c-6b9226dab785",
    "deepnote_cell_type": "code"
   },
   "source": [
    "# Get each column in the second row of a.\n",
    "q20 = a[1,:]\n",
    "print(q20)"
   ],
   "outputs": [],
   "execution_count": null
  },
  {
   "cell_type": "code",
   "metadata": {
    "deletable": false,
    "editable": false
   },
   "source": [
    "grader.check(\"q20\")"
   ],
   "outputs": [],
   "execution_count": null
  },
  {
   "cell_type": "code",
   "metadata": {
    "cell_id": "00130-30e159a3-447c-445e-b684-27ae001dd825",
    "deepnote_cell_type": "code"
   },
   "source": [
    "# a[i:j, : ] returns rows i+1 through j of the matrix.  (Yeah this is confusing due to indexing starting at 0!)\n",
    "# In the code below we get rows 2 through 3 of the matrix.  (We index from 1 to (3-1).) \n",
    "e = a[1:3, : ]\n",
    "print(e)"
   ],
   "outputs": [],
   "execution_count": null
  },
  {
   "cell_type": "code",
   "metadata": {
    "cell_id": "00131-0668d7cc-aa2c-4281-92b1-9950b52932ec",
    "deepnote_cell_type": "code"
   },
   "source": [
    "# Get the last row\n",
    "b = a[-1,:]\n",
    "print(b)"
   ],
   "outputs": [],
   "execution_count": null
  },
  {
   "cell_type": "code",
   "metadata": {
    "cell_id": "00133-1dbb85b2-1f3e-467b-b710-14d822539753",
    "deepnote_cell_type": "code"
   },
   "source": [
    "# Find last column\n",
    "q21 = a[ : , -1]\n",
    "print(q21)"
   ],
   "outputs": [],
   "execution_count": null
  },
  {
   "cell_type": "code",
   "metadata": {
    "deletable": false,
    "editable": false
   },
   "source": [
    "grader.check(\"q21\")"
   ],
   "outputs": [],
   "execution_count": null
  },
  {
   "cell_type": "markdown",
   "metadata": {
    "cell_id": "00135-a65774ba-e424-4f36-a1ce-9de5effa55ae",
    "deepnote_cell_type": "markdown"
   },
   "source": [
    "You can use a for loop to traverse through an array!!"
   ]
  },
  {
   "cell_type": "code",
   "metadata": {
    "cell_id": "00136-51c243f7-626f-4c95-bce3-6d5f5d9c5f2a",
    "deepnote_cell_type": "code"
   },
   "source": [
    "for i in range(a.shape[0]):\n",
    "    for j in range(a.shape[1]):\n",
    "        print(a[i,j])"
   ],
   "outputs": [],
   "execution_count": null
  },
  {
   "cell_type": "markdown",
   "metadata": {
    "cell_id": "00137-8f498fea-44ca-49ee-a7b3-ae21c822674c",
    "collapsed": true,
    "deepnote_cell_type": "markdown",
    "jupyter": {
     "outputs_hidden": true
    }
   },
   "source": [
    "# Stacking together different arrays.\n",
    "\n",
    "Several arrays can be stacked together along different axes:"
   ]
  },
  {
   "cell_type": "code",
   "metadata": {
    "cell_id": "00138-2995aef6-ed2a-4287-89a4-eb1a9aafe86c",
    "deepnote_cell_type": "code"
   },
   "source": [
    "# Run this cell\n",
    "q22_a = np.arange(4).reshape((2,2))\n",
    "print(q22_a)"
   ],
   "outputs": [],
   "execution_count": null
  },
  {
   "cell_type": "code",
   "metadata": {
    "cell_id": "00139-4a27b6bc-326b-42e9-abf2-a4d628d6c7c2",
    "deepnote_cell_type": "code"
   },
   "source": [
    "# Run this cell\n",
    "q22_b = np.arange(4,8).reshape((2,2))\n",
    "print(q22_b)"
   ],
   "outputs": [],
   "execution_count": null
  },
  {
   "cell_type": "markdown",
   "metadata": {
    "cell_id": "00140-b24f99c8-f0b7-489e-92ac-838f38c81956",
    "deepnote_cell_type": "markdown"
   },
   "source": [
    "To stack array b at the bottom of array a, we use vstack command. Note, for vstack, number of columns in both arrays should be same i.e. a.shape[1] == b.shape[1]."
   ]
  },
  {
   "cell_type": "code",
   "metadata": {
    "cell_id": "00141-63b5c6f2-9779-4251-9590-292ec0d0efa9",
    "deepnote_cell_type": "code"
   },
   "source": [
    "# Stacking b at the bottom of a.\n",
    "q22_c = np.vstack((q22_a,q22_b))\n",
    "print(q22_c)\n",
    "print(q22_c.shape)"
   ],
   "outputs": [],
   "execution_count": null
  },
  {
   "cell_type": "code",
   "metadata": {
    "cell_id": "00142-8c342b28-ead0-43d9-813d-efe0501c4163",
    "deepnote_cell_type": "code"
   },
   "source": [
    "# Horizontal stack. Stack a to the left of b. \n",
    "# Note, for hstack, number of rows in both arrays should be same i.e. a.shape[0] == b.shape[0].\n",
    "q22_d = np.hstack((q22_a,q22_b))\n",
    "print(q22_d)"
   ],
   "outputs": [],
   "execution_count": null
  },
  {
   "cell_type": "code",
   "metadata": {
    "cell_id": "00144-cec73c4c-14b0-4482-be3d-2f5c19444300",
    "deepnote_cell_type": "code"
   },
   "source": [
    "# Create an array a of dimension (3,2) and another array b of dimension (3,5). \n",
    "# Append one of them to the left of another i.e. hstack.\n",
    "q22_arr_a= np.arange(1,7).reshape(3,2)\n",
    "q22_arr_b= np.arange(10, 25).reshape(3,5)\n",
    "q22_left = np.hstack((q22_arr_a,q22_arr_b))\n",
    "print(\"The array a:\")\n",
    "print(q22_arr_a)\n",
    "print(\"The array b:\")\n",
    "print(q22_arr_b)\n",
    "print(\"The array left:\")\n",
    "print(q22_left)"
   ],
   "outputs": [],
   "execution_count": null
  },
  {
   "cell_type": "code",
   "metadata": {
    "deletable": false,
    "editable": false
   },
   "source": [
    "grader.check(\"q22\")"
   ],
   "outputs": [],
   "execution_count": null
  },
  {
   "cell_type": "markdown",
   "metadata": {
    "cell_id": "00146-949e6102-57c2-4047-b480-e03a6c96bd48",
    "deepnote_cell_type": "markdown"
   },
   "source": [
    "# Broadingcasting.\n",
    "\n",
    "This is an important feature of numpy arrays. Suppose we have an array a of dimension (4,5) and another array b of dimension (4,1). If we want to add both the arrays, is it possible according to linear algebra? The answer is NO because in Linear Algebra, to perform element-wise arithmetic operations, dimensions should be same. \n",
    "\n",
    "However, using broadcasting it is possible to add the arrays. Broadcasting copies the first column of b to other columns of b to make it of same size as of a i.e. make it of dimension (4,5) from (4,1). "
   ]
  },
  {
   "cell_type": "code",
   "metadata": {
    "cell_id": "00147-76d01e75-103e-4957-bb34-20f5cd96c473",
    "deepnote_cell_type": "code"
   },
   "source": [
    "a = np.arange(20).reshape((4,5))\n",
    "print(a)"
   ],
   "outputs": [],
   "execution_count": null
  },
  {
   "cell_type": "code",
   "metadata": {
    "cell_id": "00148-2c773e41-3e7b-4084-bab7-c4a205c00945",
    "deepnote_cell_type": "code"
   },
   "source": [
    "b = np.arange(4).reshape((4,1))\n",
    "print(b)"
   ],
   "outputs": [],
   "execution_count": null
  },
  {
   "cell_type": "code",
   "metadata": {
    "cell_id": "00149-3574e919-a531-4e39-9426-76aab3f5d2e3",
    "deepnote_cell_type": "code"
   },
   "source": [
    "c = a + b\n",
    "print(c)"
   ],
   "outputs": [],
   "execution_count": null
  },
  {
   "cell_type": "markdown",
   "metadata": {
    "cell_id": "00150-53245151-c256-468d-86e5-085b69566b79",
    "deepnote_cell_type": "markdown"
   },
   "source": [
    "For broadcasting to work, all the dimensions must be compatible. A dimension is compatible for both arrays either if  they are equal, or either of them is 1.  \n",
    "\n",
    "For example: array b has dimensions (2,3,4) and array c has dimensions (1,3,2).  The first dimension is compatible because c.shape[0]=1.  The second dimension is compatible because b.shape[1]==c.shape[1].  But the third dimension is not compatible becaue b.shape[2] $\\not =$ c.shape[2] and neither of them is 1.\n",
    "\n",
    "When operating on two arrays, NumPy compares their shapes element-wise. It starts with the trailing dimensions, and works its way forward. \n",
    "\n",
    "When either of the dimensions compared is one, the other is used. In other words, dimensions with size 1 are stretched or “copied” to match the other.\n",
    "In the following example, both the A and B arrays have axes with length one that are expanded to a larger size during the broadcast operation:\n",
    "\n",
    "A      (4d array):  8 x 1 x 6 x 1\n",
    "B      (3d array):      7 x 1 x 5\n",
    "Result (4d array):  8 x 7 x 6 x 5\n",
    "\n",
    "Another example:\n",
    "\n",
    "A      (3d array):  15 x 3 x 5\n",
    "B      (3d array):  15 x 1 x 5\n",
    "Result (3d array):  15 x 3 x 5\n",
    "\n",
    "Broadcasting rules can be confusing. But for now, you only need to know very basic broadcasting which is shown in the code cell above."
   ]
  },
  {
   "cell_type": "markdown",
   "metadata": {
    "cell_id": "00151-3960ce14-9289-456b-8cb9-304ce95b2b43",
    "deepnote_cell_type": "markdown"
   },
   "source": [
    "# Basic Linear Algebra Operations."
   ]
  },
  {
   "cell_type": "code",
   "metadata": {
    "cell_id": "00152-d7d158a3-807e-4601-afb7-bb7d7024459a",
    "deepnote_cell_type": "code"
   },
   "source": [
    "a = np.array([[1.0, 2.0], [3.0, 4.0]])\n",
    "print(a)"
   ],
   "outputs": [],
   "execution_count": null
  },
  {
   "cell_type": "code",
   "metadata": {
    "cell_id": "00153-c4c1a691-8e28-4eeb-ae75-dde7b5b3e650",
    "deepnote_cell_type": "code"
   },
   "source": [
    "# To find Inverse of matrix a:\n",
    "b = np.linalg.inv(a)\n",
    "print(b)"
   ],
   "outputs": [],
   "execution_count": null
  },
  {
   "cell_type": "code",
   "metadata": {
    "cell_id": "00154-fe7fae5b-41a1-4061-ad07-d2603c2df5c9",
    "deepnote_cell_type": "code"
   },
   "source": [
    "# Creating Identity matrix: Identity matrix is always a square matrix.\n",
    "u = np.eye(3)\n",
    "print(u)"
   ],
   "outputs": [],
   "execution_count": null
  },
  {
   "cell_type": "code",
   "metadata": {
    "cell_id": "00155-da25477c-39f1-441c-96a4-53956d7d6968",
    "deepnote_cell_type": "code"
   },
   "source": [
    "# Finding Trace of a matrix\n",
    "c = np.trace(u)\n",
    "print(c)"
   ],
   "outputs": [],
   "execution_count": null
  },
  {
   "cell_type": "code",
   "metadata": {
    "cell_id": "00156-67886884-f4f4-47d4-8998-6185d47d8ea0",
    "deepnote_cell_type": "code"
   },
   "source": [
    "# Find eigen values of a matrix\n",
    "d = np.linalg.eig(a)\n",
    "print(d)"
   ],
   "outputs": [],
   "execution_count": null
  },
  {
   "cell_type": "markdown",
   "metadata": {
    "cell_id": "00157-0569c5d1-7883-4723-8d15-c916e8610f3f",
    "deepnote_cell_type": "markdown"
   },
   "source": [
    "# Automatic Reshaping"
   ]
  },
  {
   "cell_type": "code",
   "metadata": {
    "cell_id": "00158-bc5e3bf4-fe88-4ffd-becc-41be1a567a65",
    "deepnote_cell_type": "code"
   },
   "source": [
    "# Run this cell\n",
    "a = np.arange(30)\n",
    "a.shape = 2,-1,3  # -1 means \"whatever is needed\"\n",
    "print(a.shape)\n",
    "print(a)"
   ],
   "outputs": [],
   "execution_count": null
  },
  {
   "cell_type": "markdown",
   "metadata": {
    "cell_id": "00159-0244b9ce-7830-41e2-854d-20983187b21c",
    "deepnote_cell_type": "markdown"
   },
   "source": [
    "This assignment ends here. We hope this assignment gives you basic knowledge of using numpy and it's arrays and perform basic operations. We highly encourage you to use official numpy documentation if you need more help while solving your machine learning assignments. https://docs.scipy.org/doc/numpy-dev/user/quickstart.html . One of the topic not covered in this assignment is indexing with arrays of indices and indexing with  boolean arrays. Though not used much in the programming assignments, but can be helpful in some scenarios. You can find them in the given link above."
   ]
  },
  {
   "cell_type": "markdown",
   "metadata": {
    "created_in_deepnote_cell": true,
    "deepnote_cell_type": "markdown",
    "tags": []
   },
   "source": [
    "<a style='text-decoration:none;line-height:16px;display:flex;color:#5B5B62;padding:10px;justify-content:end;' href='https://deepnote.com?utm_source=created-in-deepnote-cell&projectId=aa9311e4-5d9b-4428-960e-eeb7e41483f1' target=\"_blank\">\n",
    "<img alt='Created in deepnote.com' style='display:inline;max-height:16px;margin:0px;margin-right:7.5px;' src='data:image/svg+xml;base64,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' > </img>\n",
    "Created in <span style='font-weight:600;margin-left:4px;'>Deepnote</span></a>"
   ]
  },
  {
   "cell_type": "markdown",
   "metadata": {
    "deletable": false,
    "editable": false
   },
   "source": [
    "---\n",
    "\n",
    "To double-check your work, the cell below will rerun all of the autograder tests."
   ]
  },
  {
   "cell_type": "code",
   "metadata": {
    "deletable": false,
    "editable": false
   },
   "source": [
    "grader.check_all()"
   ],
   "outputs": [],
   "execution_count": null
  },
  {
   "cell_type": "markdown",
   "metadata": {
    "deletable": false,
    "editable": false
   },
   "source": [
    "## Submission\n",
    "\n",
    "Make sure you have run all cells in your notebook in order before running the cell below, so that all images/graphs appear in the output. The cell below will generate a zip file for you to submit. **Please save before exporting!**\n",
    "\n",
    "Please submit your homework on Gradescope."
   ]
  },
  {
   "cell_type": "code",
   "metadata": {
    "deletable": false,
    "editable": false
   },
   "source": [
    "# Save your notebook first, then run this cell to export your submission.\n",
    "grader.export(pdf=False)"
   ],
   "outputs": [],
   "execution_count": null
  },
  {
   "cell_type": "markdown",
   "metadata": {},
   "source": [
    " "
   ]
  }
 ],
 "metadata": {
  "deepnote": {},
  "deepnote_execution_queue": [],
  "deepnote_notebook_id": "56e45ea3-4777-4bb7-a820-77f7b32b154a",
  "interpreter": {
   "hash": "8773649eda974bda5555905e4d339961166b401a6ebb2f1df1fbe8f6c8db83fa"
  },
  "kernelspec": {
   "display_name": "Python 3 (ipykernel)",
   "language": "python",
   "name": "python3"
  },
  "language_info": {
   "codemirror_mode": {
    "name": "ipython",
    "version": 3
   },
   "file_extension": ".py",
   "mimetype": "text/x-python",
   "name": "python",
   "nbconvert_exporter": "python",
   "pygments_lexer": "ipython3",
   "version": "3.11.5"
  }
 },
 "nbformat": 4,
 "nbformat_minor": 4
}
